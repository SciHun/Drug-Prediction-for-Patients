{
 "cells": [
  {
   "cell_type": "code",
   "execution_count": 3,
   "id": "000fc6eb-32e4-4f7c-8640-0d103e102355",
   "metadata": {},
   "outputs": [
    {
     "name": "stdout",
     "output_type": "stream",
     "text": [
      "      Gender  Age  GLUCOSE  HBA1C  CREATININE    BUN   HGB   Ferr  TROPONIN I  \\\n",
      "0          1   47     87.3    5.0        4.95  27.52   9.5  173.4         6.8   \n",
      "1          1   64     75.2    5.1        1.57  39.00  12.2  140.7        14.2   \n",
      "2          1   74    102.9    3.6        6.14  99.88   9.9  189.6        13.7   \n",
      "3          1   58     89.0    3.6        7.07  66.31  11.1  158.0        15.1   \n",
      "4          1   46     93.3    5.2        3.67  20.62  11.7  141.6        14.2   \n",
      "...      ...  ...      ...    ...         ...    ...   ...    ...         ...   \n",
      "2264       1   65     93.0    4.9        0.64  12.70  13.7  179.9        14.3   \n",
      "2265       0   80     78.4    4.9        0.62   9.13  14.3   35.9         0.7   \n",
      "2266       1   74     80.0    4.9        0.80  18.79  14.1   86.9         8.7   \n",
      "2267       1   81    125.8    3.7        0.59   8.98  14.7  132.5        14.0   \n",
      "2268       0   75    118.0    5.1        0.91  16.17  14.3  163.6         7.4   \n",
      "\n",
      "         CK  CK-MB  TRIGLYCERIDE  HDL CHOLESTEROL  LDL CHOLESTEROL  CRP   PCT  \\\n",
      "0      62.9    7.1          98.8             48.3            101.9  1.2  0.24   \n",
      "1      70.0    6.5         160.0             20.0             75.0  2.1  0.12   \n",
      "2     115.0   22.2         141.0             28.0             67.0  6.2  0.20   \n",
      "3      61.9   16.4          79.4             27.3             65.9  3.2  0.21   \n",
      "4     127.6   13.2         149.0             40.0            117.0  8.5  0.32   \n",
      "...     ...    ...           ...              ...              ...  ...   ...   \n",
      "2264   92.9    7.3          90.0             48.7            102.3  2.9  0.29   \n",
      "2265   74.9   19.2          86.1             42.0             99.1  3.3  0.30   \n",
      "2266   48.0   17.4         103.0             43.9             97.4  2.1  0.21   \n",
      "2267   85.2   17.4         112.0             47.3            127.1  3.4  0.30   \n",
      "2268   88.0    8.6         129.0             55.2             97.4  4.6  0.19   \n",
      "\n",
      "       FT4    TSH  Disease  \n",
      "0     0.81  3.840        0  \n",
      "1     0.60  1.472        0  \n",
      "2     1.20  1.944        0  \n",
      "3     1.07  2.644        0  \n",
      "4     1.00  1.332        0  \n",
      "...    ...    ...      ...  \n",
      "2264  0.60  1.001        8  \n",
      "2265  0.75  1.874        8  \n",
      "2266  1.24  2.513        8  \n",
      "2267  0.63  3.413        8  \n",
      "2268  0.58  2.636        8  \n",
      "\n",
      "[2269 rows x 19 columns]\n"
     ]
    }
   ],
   "source": [
    "import pandas as pd\n",
    "\n",
    "# Load each CSV file into a separate DataFrame\n",
    "df1 = pd.read_csv('bobrekAnaliz2.csv')\n",
    "df2 = pd.read_csv('demirAnaliz2.csv')\n",
    "df3 = pd.read_csv('diabetAnaliz2.csv')\n",
    "df4 = pd.read_csv('hiperkolAnaliz2.csv')\n",
    "df5 = pd.read_csv('hipertiroAnaliz2.csv')\n",
    "df6 = pd.read_csv('hipotiroAnaliz2.csv')\n",
    "df7 = pd.read_csv('kalpAnaliz2.csv')\n",
    "df8 = pd.read_csv('pnomoniAnaliz2.csv')\n",
    "df9 = pd.read_csv('saglikAnaliz.csv')\n",
    "\n",
    "\n",
    "\n",
    "# Combine the DataFrames\n",
    "combined_df = pd.concat([df1, df2, df3, df4, df5, df6, df7, df8, df9], ignore_index=True)\n",
    "\n",
    "# Display the combined DataFrame\n",
    "#print(\"Combined DataFrame:\")\n",
    "print(combined_df)\n",
    "\n",
    "x1 = combined_df.to_csv('2AugustEski.csv', index = False)\n",
    "x1"
   ]
  },
  {
   "cell_type": "code",
   "execution_count": null,
   "id": "560732f8-2eb9-446f-bc95-3f08e0f45405",
   "metadata": {},
   "outputs": [],
   "source": []
  }
 ],
 "metadata": {
  "kernelspec": {
   "display_name": "Python 3 (ipykernel)",
   "language": "python",
   "name": "python3"
  },
  "language_info": {
   "codemirror_mode": {
    "name": "ipython",
    "version": 3
   },
   "file_extension": ".py",
   "mimetype": "text/x-python",
   "name": "python",
   "nbconvert_exporter": "python",
   "pygments_lexer": "ipython3",
   "version": "3.12.4"
  }
 },
 "nbformat": 4,
 "nbformat_minor": 5
}
