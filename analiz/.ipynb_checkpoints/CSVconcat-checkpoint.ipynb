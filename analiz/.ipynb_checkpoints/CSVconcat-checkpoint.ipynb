{
 "cells": [
  {
   "cell_type": "code",
   "execution_count": 1,
   "id": "000fc6eb-32e4-4f7c-8640-0d103e102355",
   "metadata": {},
   "outputs": [
    {
     "name": "stdout",
     "output_type": "stream",
     "text": [
      "      Gender  Age  GLUCOSE  HBA1C  CREATININE    BUN   HGB   Ferr  TROPONIN I  \\\n",
      "0          1   47     82.2    5.0        4.95  27.52   9.5  173.4      8292.1   \n",
      "1          1   64     30.0    5.1        1.57  39.00  12.2  140.7      2810.4   \n",
      "2          1   74    134.0    8.1        6.14  99.88   9.9  474.0      2722.0   \n",
      "3          1   58    209.7    8.1        7.07  66.31  11.1  158.0        15.0   \n",
      "4          1   46     98.0    5.2        3.67  20.62  11.7  354.0        28.2   \n",
      "...      ...  ...      ...    ...         ...    ...   ...    ...         ...   \n",
      "2054       1   65     93.0    4.9        0.64  12.70  13.7  179.9        14.3   \n",
      "2055       0   80     78.4    4.9        0.62   9.13  14.3   35.9         0.7   \n",
      "2056       1   74     80.0    4.9        0.80  18.79  14.1   86.9         8.7   \n",
      "2057       1   81    125.8    3.7        0.59   8.98  14.7  132.5        14.0   \n",
      "2058       0   75    118.0    5.1        0.91  16.17  14.3  163.6         7.4   \n",
      "\n",
      "         CK  CK-MB  TRIGLYCERIDE  HDL CHOLESTEROL  LDL CHOLESTEROL    CRP  \\\n",
      "0      62.9    7.1          98.8             48.3            101.9   23.8   \n",
      "1      70.0  129.7         160.0             20.0             75.0  208.0   \n",
      "2     230.0   22.2         141.0             28.0             67.0   12.4   \n",
      "3      61.9   16.4          79.4             27.3             65.9   64.8   \n",
      "4     127.6   13.2         149.0             40.0            117.0   17.0   \n",
      "...     ...    ...           ...              ...              ...    ...   \n",
      "2054   92.9    7.3          90.0             48.7            102.3    2.9   \n",
      "2055   74.9   19.2          86.1             42.0             99.1    3.3   \n",
      "2056   48.0   17.4         103.0             43.9             97.4    2.1   \n",
      "2057   85.2   17.4         112.0             47.3            127.1    3.4   \n",
      "2058   88.0    8.6         129.0             55.2             97.4    4.6   \n",
      "\n",
      "       PCT   FT4    TSH  Disease  \n",
      "0     0.24  0.81  3.840        0  \n",
      "1     0.12  0.60  1.472        0  \n",
      "2     0.20  1.20  1.944        0  \n",
      "3     0.21  1.07  2.644        0  \n",
      "4     0.32  1.00  1.332        0  \n",
      "...    ...   ...    ...      ...  \n",
      "2054  0.29  0.60  1.001        8  \n",
      "2055  0.30  0.75  1.874        8  \n",
      "2056  0.21  1.24  2.513        8  \n",
      "2057  0.30  0.63  3.413        8  \n",
      "2058  0.19  0.58  2.636        8  \n",
      "\n",
      "[2059 rows x 19 columns]\n"
     ]
    }
   ],
   "source": [
    "import pandas as pd\n",
    "\n",
    "# Load each CSV file into a separate DataFrame\n",
    "df1 = pd.read_csv('bobrekAnaliz.csv')\n",
    "df2 = pd.read_csv('demirAnaliz.csv')\n",
    "df3 = pd.read_csv('diabetAnaliz.csv')\n",
    "df4 = pd.read_csv('hiperkolAnaliz.csv')\n",
    "df5 = pd.read_csv('hipertiroAnaliz.csv')\n",
    "df6 = pd.read_csv('kalpAnaliz.csv')\n",
    "df7 = pd.read_csv('pnomoniAnaliz.csv')\n",
    "df8 = pd.read_csv('saglikAnaliz.csv')\n",
    "\n",
    "\n",
    "\n",
    "# Combine the DataFrames\n",
    "combined_df = pd.concat([df1, df2, df3, df4, df5, df6, df7, df8], ignore_index=True)\n",
    "\n",
    "# Display the combined DataFrame\n",
    "#print(\"Combined DataFrame:\")\n",
    "print(combined_df)\n",
    "\n",
    "x1 = combined_df.to_csv('analyses1August.csv')\n",
    "x1"
   ]
  },
  {
   "cell_type": "code",
   "execution_count": null,
   "id": "560732f8-2eb9-446f-bc95-3f08e0f45405",
   "metadata": {},
   "outputs": [],
   "source": []
  }
 ],
 "metadata": {
  "kernelspec": {
   "display_name": "Python 3 (ipykernel)",
   "language": "python",
   "name": "python3"
  },
  "language_info": {
   "codemirror_mode": {
    "name": "ipython",
    "version": 3
   },
   "file_extension": ".py",
   "mimetype": "text/x-python",
   "name": "python",
   "nbconvert_exporter": "python",
   "pygments_lexer": "ipython3",
   "version": "3.9.18"
  }
 },
 "nbformat": 4,
 "nbformat_minor": 5
}
