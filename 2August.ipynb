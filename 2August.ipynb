{
 "cells": [
  {
   "cell_type": "code",
   "execution_count": 475,
   "id": "57509bcd-6d3a-495c-a2ab-37b525d00032",
   "metadata": {},
   "outputs": [
    {
     "data": {
      "text/html": [
       "<div>\n",
       "<style scoped>\n",
       "    .dataframe tbody tr th:only-of-type {\n",
       "        vertical-align: middle;\n",
       "    }\n",
       "\n",
       "    .dataframe tbody tr th {\n",
       "        vertical-align: top;\n",
       "    }\n",
       "\n",
       "    .dataframe thead th {\n",
       "        text-align: right;\n",
       "    }\n",
       "</style>\n",
       "<table border=\"1\" class=\"dataframe\">\n",
       "  <thead>\n",
       "    <tr style=\"text-align: right;\">\n",
       "      <th></th>\n",
       "      <th>Gender</th>\n",
       "      <th>Age</th>\n",
       "      <th>GLUCOSE</th>\n",
       "      <th>HBA1C</th>\n",
       "      <th>CREATININE</th>\n",
       "      <th>BUN</th>\n",
       "      <th>HGB</th>\n",
       "      <th>Ferr</th>\n",
       "      <th>TROPONIN I</th>\n",
       "      <th>CK</th>\n",
       "      <th>CK-MB</th>\n",
       "      <th>TRIGLYCERIDE</th>\n",
       "      <th>HDL CHOLESTEROL</th>\n",
       "      <th>LDL CHOLESTEROL</th>\n",
       "      <th>CRP</th>\n",
       "      <th>PCT</th>\n",
       "      <th>FT4</th>\n",
       "      <th>TSH</th>\n",
       "      <th>Disease</th>\n",
       "    </tr>\n",
       "  </thead>\n",
       "  <tbody>\n",
       "    <tr>\n",
       "      <th>0</th>\n",
       "      <td>1</td>\n",
       "      <td>87</td>\n",
       "      <td>94.0</td>\n",
       "      <td>5.0</td>\n",
       "      <td>0.96</td>\n",
       "      <td>21.25</td>\n",
       "      <td>8.2</td>\n",
       "      <td>4.0</td>\n",
       "      <td>2.2</td>\n",
       "      <td>142.8</td>\n",
       "      <td>12.4</td>\n",
       "      <td>50.6</td>\n",
       "      <td>58.0</td>\n",
       "      <td>95.2</td>\n",
       "      <td>1.0</td>\n",
       "      <td>0.29</td>\n",
       "      <td>0.94</td>\n",
       "      <td>2.276</td>\n",
       "      <td>1</td>\n",
       "    </tr>\n",
       "    <tr>\n",
       "      <th>1</th>\n",
       "      <td>1</td>\n",
       "      <td>87</td>\n",
       "      <td>135.0</td>\n",
       "      <td>6.5</td>\n",
       "      <td>0.74</td>\n",
       "      <td>22.06</td>\n",
       "      <td>9.0</td>\n",
       "      <td>12.0</td>\n",
       "      <td>2.2</td>\n",
       "      <td>92.0</td>\n",
       "      <td>12.4</td>\n",
       "      <td>65.6</td>\n",
       "      <td>65.6</td>\n",
       "      <td>95.8</td>\n",
       "      <td>1.0</td>\n",
       "      <td>0.25</td>\n",
       "      <td>1.00</td>\n",
       "      <td>2.652</td>\n",
       "      <td>1</td>\n",
       "    </tr>\n",
       "    <tr>\n",
       "      <th>2</th>\n",
       "      <td>1</td>\n",
       "      <td>68</td>\n",
       "      <td>99.0</td>\n",
       "      <td>6.3</td>\n",
       "      <td>0.64</td>\n",
       "      <td>7.75</td>\n",
       "      <td>4.3</td>\n",
       "      <td>34.0</td>\n",
       "      <td>2.2</td>\n",
       "      <td>133.0</td>\n",
       "      <td>15.0</td>\n",
       "      <td>196.0</td>\n",
       "      <td>32.0</td>\n",
       "      <td>108.0</td>\n",
       "      <td>2.2</td>\n",
       "      <td>0.27</td>\n",
       "      <td>1.10</td>\n",
       "      <td>2.514</td>\n",
       "      <td>1</td>\n",
       "    </tr>\n",
       "    <tr>\n",
       "      <th>3</th>\n",
       "      <td>0</td>\n",
       "      <td>38</td>\n",
       "      <td>83.6</td>\n",
       "      <td>5.6</td>\n",
       "      <td>0.63</td>\n",
       "      <td>11.72</td>\n",
       "      <td>6.3</td>\n",
       "      <td>6.0</td>\n",
       "      <td>1.6</td>\n",
       "      <td>92.6</td>\n",
       "      <td>13.8</td>\n",
       "      <td>92.8</td>\n",
       "      <td>53.4</td>\n",
       "      <td>123.7</td>\n",
       "      <td>1.0</td>\n",
       "      <td>0.25</td>\n",
       "      <td>0.90</td>\n",
       "      <td>2.341</td>\n",
       "      <td>1</td>\n",
       "    </tr>\n",
       "    <tr>\n",
       "      <th>4</th>\n",
       "      <td>0</td>\n",
       "      <td>64</td>\n",
       "      <td>88.2</td>\n",
       "      <td>5.0</td>\n",
       "      <td>0.76</td>\n",
       "      <td>11.18</td>\n",
       "      <td>5.1</td>\n",
       "      <td>30.5</td>\n",
       "      <td>2.2</td>\n",
       "      <td>142.8</td>\n",
       "      <td>12.4</td>\n",
       "      <td>84.6</td>\n",
       "      <td>43.4</td>\n",
       "      <td>102.8</td>\n",
       "      <td>4.0</td>\n",
       "      <td>0.33</td>\n",
       "      <td>0.95</td>\n",
       "      <td>1.585</td>\n",
       "      <td>1</td>\n",
       "    </tr>\n",
       "    <tr>\n",
       "      <th>...</th>\n",
       "      <td>...</td>\n",
       "      <td>...</td>\n",
       "      <td>...</td>\n",
       "      <td>...</td>\n",
       "      <td>...</td>\n",
       "      <td>...</td>\n",
       "      <td>...</td>\n",
       "      <td>...</td>\n",
       "      <td>...</td>\n",
       "      <td>...</td>\n",
       "      <td>...</td>\n",
       "      <td>...</td>\n",
       "      <td>...</td>\n",
       "      <td>...</td>\n",
       "      <td>...</td>\n",
       "      <td>...</td>\n",
       "      <td>...</td>\n",
       "      <td>...</td>\n",
       "      <td>...</td>\n",
       "    </tr>\n",
       "    <tr>\n",
       "      <th>214</th>\n",
       "      <td>0</td>\n",
       "      <td>63</td>\n",
       "      <td>93.0</td>\n",
       "      <td>5.2</td>\n",
       "      <td>1.14</td>\n",
       "      <td>17.88</td>\n",
       "      <td>7.3</td>\n",
       "      <td>37.9</td>\n",
       "      <td>4.5</td>\n",
       "      <td>117.9</td>\n",
       "      <td>21.5</td>\n",
       "      <td>291.6</td>\n",
       "      <td>45.6</td>\n",
       "      <td>60.9</td>\n",
       "      <td>5.1</td>\n",
       "      <td>0.23</td>\n",
       "      <td>0.65</td>\n",
       "      <td>2.062</td>\n",
       "      <td>1</td>\n",
       "    </tr>\n",
       "    <tr>\n",
       "      <th>215</th>\n",
       "      <td>0</td>\n",
       "      <td>49</td>\n",
       "      <td>97.0</td>\n",
       "      <td>5.7</td>\n",
       "      <td>1.01</td>\n",
       "      <td>16.39</td>\n",
       "      <td>7.8</td>\n",
       "      <td>34.7</td>\n",
       "      <td>0.2</td>\n",
       "      <td>192.8</td>\n",
       "      <td>21.5</td>\n",
       "      <td>145.3</td>\n",
       "      <td>31.1</td>\n",
       "      <td>106.6</td>\n",
       "      <td>16.4</td>\n",
       "      <td>0.20</td>\n",
       "      <td>0.78</td>\n",
       "      <td>1.077</td>\n",
       "      <td>1</td>\n",
       "    </tr>\n",
       "    <tr>\n",
       "      <th>216</th>\n",
       "      <td>1</td>\n",
       "      <td>78</td>\n",
       "      <td>171.0</td>\n",
       "      <td>5.2</td>\n",
       "      <td>0.90</td>\n",
       "      <td>19.37</td>\n",
       "      <td>6.8</td>\n",
       "      <td>41.1</td>\n",
       "      <td>3.8</td>\n",
       "      <td>97.4</td>\n",
       "      <td>19.5</td>\n",
       "      <td>58.5</td>\n",
       "      <td>53.8</td>\n",
       "      <td>132.0</td>\n",
       "      <td>4.6</td>\n",
       "      <td>0.30</td>\n",
       "      <td>0.84</td>\n",
       "      <td>1.242</td>\n",
       "      <td>1</td>\n",
       "    </tr>\n",
       "    <tr>\n",
       "      <th>217</th>\n",
       "      <td>0</td>\n",
       "      <td>56</td>\n",
       "      <td>112.0</td>\n",
       "      <td>5.8</td>\n",
       "      <td>0.80</td>\n",
       "      <td>14.90</td>\n",
       "      <td>4.4</td>\n",
       "      <td>31.6</td>\n",
       "      <td>0.0</td>\n",
       "      <td>77.9</td>\n",
       "      <td>15.4</td>\n",
       "      <td>63.8</td>\n",
       "      <td>33.1</td>\n",
       "      <td>112.7</td>\n",
       "      <td>4.0</td>\n",
       "      <td>0.30</td>\n",
       "      <td>0.84</td>\n",
       "      <td>1.692</td>\n",
       "      <td>1</td>\n",
       "    </tr>\n",
       "    <tr>\n",
       "      <th>218</th>\n",
       "      <td>1</td>\n",
       "      <td>19</td>\n",
       "      <td>83.0</td>\n",
       "      <td>5.6</td>\n",
       "      <td>0.70</td>\n",
       "      <td>17.39</td>\n",
       "      <td>7.2</td>\n",
       "      <td>36.9</td>\n",
       "      <td>0.0</td>\n",
       "      <td>61.5</td>\n",
       "      <td>11.3</td>\n",
       "      <td>112.9</td>\n",
       "      <td>46.6</td>\n",
       "      <td>86.3</td>\n",
       "      <td>16.8</td>\n",
       "      <td>0.20</td>\n",
       "      <td>0.76</td>\n",
       "      <td>6.653</td>\n",
       "      <td>1</td>\n",
       "    </tr>\n",
       "  </tbody>\n",
       "</table>\n",
       "<p>219 rows × 19 columns</p>\n",
       "</div>"
      ],
      "text/plain": [
       "     Gender  Age  GLUCOSE  HBA1C  CREATININE    BUN  HGB  Ferr  TROPONIN I  \\\n",
       "0         1   87     94.0    5.0        0.96  21.25  8.2   4.0         2.2   \n",
       "1         1   87    135.0    6.5        0.74  22.06  9.0  12.0         2.2   \n",
       "2         1   68     99.0    6.3        0.64   7.75  4.3  34.0         2.2   \n",
       "3         0   38     83.6    5.6        0.63  11.72  6.3   6.0         1.6   \n",
       "4         0   64     88.2    5.0        0.76  11.18  5.1  30.5         2.2   \n",
       "..      ...  ...      ...    ...         ...    ...  ...   ...         ...   \n",
       "214       0   63     93.0    5.2        1.14  17.88  7.3  37.9         4.5   \n",
       "215       0   49     97.0    5.7        1.01  16.39  7.8  34.7         0.2   \n",
       "216       1   78    171.0    5.2        0.90  19.37  6.8  41.1         3.8   \n",
       "217       0   56    112.0    5.8        0.80  14.90  4.4  31.6         0.0   \n",
       "218       1   19     83.0    5.6        0.70  17.39  7.2  36.9         0.0   \n",
       "\n",
       "        CK  CK-MB  TRIGLYCERIDE  HDL CHOLESTEROL  LDL CHOLESTEROL   CRP   PCT  \\\n",
       "0    142.8   12.4          50.6             58.0             95.2   1.0  0.29   \n",
       "1     92.0   12.4          65.6             65.6             95.8   1.0  0.25   \n",
       "2    133.0   15.0         196.0             32.0            108.0   2.2  0.27   \n",
       "3     92.6   13.8          92.8             53.4            123.7   1.0  0.25   \n",
       "4    142.8   12.4          84.6             43.4            102.8   4.0  0.33   \n",
       "..     ...    ...           ...              ...              ...   ...   ...   \n",
       "214  117.9   21.5         291.6             45.6             60.9   5.1  0.23   \n",
       "215  192.8   21.5         145.3             31.1            106.6  16.4  0.20   \n",
       "216   97.4   19.5          58.5             53.8            132.0   4.6  0.30   \n",
       "217   77.9   15.4          63.8             33.1            112.7   4.0  0.30   \n",
       "218   61.5   11.3         112.9             46.6             86.3  16.8  0.20   \n",
       "\n",
       "      FT4    TSH  Disease  \n",
       "0    0.94  2.276        1  \n",
       "1    1.00  2.652        1  \n",
       "2    1.10  2.514        1  \n",
       "3    0.90  2.341        1  \n",
       "4    0.95  1.585        1  \n",
       "..    ...    ...      ...  \n",
       "214  0.65  2.062        1  \n",
       "215  0.78  1.077        1  \n",
       "216  0.84  1.242        1  \n",
       "217  0.84  1.692        1  \n",
       "218  0.76  6.653        1  \n",
       "\n",
       "[219 rows x 19 columns]"
      ]
     },
     "execution_count": 475,
     "metadata": {},
     "output_type": "execute_result"
    }
   ],
   "source": [
    "import pandas as pd\n",
    "a = pd.read_csv('demirAnaliz.csv')\n",
    "a"
   ]
  },
  {
   "cell_type": "code",
   "execution_count": 485,
   "id": "50f8b654-0695-498c-aba1-92c0a7ca9dcc",
   "metadata": {},
   "outputs": [
    {
     "data": {
      "text/plain": [
       "Gender               0.219178\n",
       "Age                 48.762557\n",
       "GLUCOSE             95.710959\n",
       "HBA1C                5.526027\n",
       "CREATININE           0.773242\n",
       "BUN                 14.460548\n",
       "HGB                  6.395890\n",
       "Ferr                28.588128\n",
       "TROPONIN I           2.062100\n",
       "CK                  90.459361\n",
       "CK-MB               12.812785\n",
       "TRIGLYCERIDE       133.762100\n",
       "HDL CHOLESTEROL     47.267580\n",
       "LDL CHOLESTEROL    106.506393\n",
       "CRP                  3.320159\n",
       "PCT                  0.275434\n",
       "FT4                  0.838265\n",
       "TSH                  2.075027\n",
       "Disease              1.000000\n",
       "dtype: float64"
      ]
     },
     "execution_count": 485,
     "metadata": {},
     "output_type": "execute_result"
    }
   ],
   "source": [
    "a.mean()"
   ]
  },
  {
   "cell_type": "code",
   "execution_count": 421,
   "id": "9a891a5d-50f7-41d0-8098-5f0b3afabb5e",
   "metadata": {},
   "outputs": [
    {
     "data": {
      "text/plain": [
       "count    290.000000\n",
       "mean      24.122759\n",
       "std       13.879128\n",
       "min        5.040000\n",
       "25%       15.690000\n",
       "50%       20.185000\n",
       "75%       28.355000\n",
       "max      102.380000\n",
       "Name: BUN, dtype: float64"
      ]
     },
     "execution_count": 421,
     "metadata": {},
     "output_type": "execute_result"
    }
   ],
   "source": [
    "a.BUN.describe()"
   ]
  },
  {
   "cell_type": "code",
   "execution_count": 424,
   "id": "bf2bb231-fc93-4c74-82af-bed90d68c88d",
   "metadata": {},
   "outputs": [
    {
     "data": {
      "text/plain": [
       "118"
      ]
     },
     "execution_count": 424,
     "metadata": {},
     "output_type": "execute_result"
    }
   ],
   "source": [
    "b = a[a.BUN > 20.5 ]\n",
    "b.value_counts().sum()"
   ]
  },
  {
   "cell_type": "code",
   "execution_count": 425,
   "id": "9c21258a-d1ed-4443-9648-c2e87d53151f",
   "metadata": {},
   "outputs": [
    {
     "data": {
      "text/plain": [
       "count    290.000000\n",
       "mean      13.972341\n",
       "std        3.913042\n",
       "min        4.272000\n",
       "25%       11.400000\n",
       "50%       13.995000\n",
       "75%       16.880000\n",
       "max       20.910000\n",
       "Name: BUN, dtype: float64"
      ]
     },
     "execution_count": 425,
     "metadata": {},
     "output_type": "execute_result"
    }
   ],
   "source": [
    "a.BUN =a.BUN.apply(lambda x: x*0.5 if x > 20.5 else x)\n",
    "a.BUN.describe()"
   ]
  },
  {
   "cell_type": "code",
   "execution_count": 315,
   "id": "3701ad5e-a9d7-4b03-9df3-b1d5787e3f1e",
   "metadata": {},
   "outputs": [
    {
     "data": {
      "text/plain": [
       "count    247.000000\n",
       "mean     263.504049\n",
       "std      119.848749\n",
       "min       22.000000\n",
       "25%      198.800000\n",
       "50%      250.600000\n",
       "75%      317.100000\n",
       "max      956.800000\n",
       "Name: Ferr, dtype: float64"
      ]
     },
     "execution_count": 315,
     "metadata": {},
     "output_type": "execute_result"
    }
   ],
   "source": [
    "a.Ferr.describe()"
   ]
  },
  {
   "cell_type": "code",
   "execution_count": 317,
   "id": "6f58fb2a-00fe-43bf-9bf9-317223fc3598",
   "metadata": {},
   "outputs": [
    {
     "data": {
      "text/plain": [
       "5"
      ]
     },
     "execution_count": 317,
     "metadata": {},
     "output_type": "execute_result"
    }
   ],
   "source": [
    "b = a[a.Ferr > 610.3]\n",
    "b.value_counts().sum()"
   ]
  },
  {
   "cell_type": "code",
   "execution_count": 322,
   "id": "178b6c6e-f5f6-4c65-a02d-d50586321852",
   "metadata": {},
   "outputs": [
    {
     "data": {
      "text/plain": [
       "count    247.000000\n",
       "mean     193.874630\n",
       "std       50.003603\n",
       "min       22.000000\n",
       "25%      175.770000\n",
       "50%      205.380000\n",
       "75%      226.800000\n",
       "max      250.614000\n",
       "Name: Ferr, dtype: float64"
      ]
     },
     "execution_count": 322,
     "metadata": {},
     "output_type": "execute_result"
    }
   ],
   "source": [
    "a.Ferr =a.Ferr.apply(lambda x: x*0.9 if x > 68.3 else x)\n",
    "a.Ferr.describe()"
   ]
  },
  {
   "cell_type": "code",
   "execution_count": 439,
   "id": "b0b34373-13df-4e34-9f29-4978dc717ddd",
   "metadata": {},
   "outputs": [
    {
     "data": {
      "text/plain": [
       "count      290.000000\n",
       "mean       355.252414\n",
       "std        860.212633\n",
       "min         11.400000\n",
       "25%         60.600000\n",
       "50%        106.250000\n",
       "75%        309.450000\n",
       "max      10521.200000\n",
       "Name: CK, dtype: float64"
      ]
     },
     "execution_count": 439,
     "metadata": {},
     "output_type": "execute_result"
    }
   ],
   "source": [
    "a.CK.describe()"
   ]
  },
  {
   "cell_type": "code",
   "execution_count": 27,
   "id": "ab6553cb-09a8-4031-a416-5ede5e07856f",
   "metadata": {},
   "outputs": [
    {
     "data": {
      "text/plain": [
       "12"
      ]
     },
     "execution_count": 27,
     "metadata": {},
     "output_type": "execute_result"
    }
   ],
   "source": [
    "b = a[a.CK > 175]\n",
    "b.value_counts().sum()"
   ]
  },
  {
   "cell_type": "code",
   "execution_count": 28,
   "id": "c3c2238b-4d61-4bf6-b176-8a4eb883e424",
   "metadata": {},
   "outputs": [
    {
     "data": {
      "text/plain": [
       "count    260.000000\n",
       "mean      87.553215\n",
       "std       40.403019\n",
       "min       10.164000\n",
       "25%       51.300000\n",
       "50%       87.200000\n",
       "75%      119.000000\n",
       "max      168.200000\n",
       "Name: CK, dtype: float64"
      ]
     },
     "execution_count": 28,
     "metadata": {},
     "output_type": "execute_result"
    }
   ],
   "source": [
    "a.CK =a.CK.apply(lambda x: x*0.5 if x > 175 else x)\n",
    "a.CK.describe()"
   ]
  },
  {
   "cell_type": "code",
   "execution_count": 438,
   "id": "ad136360-7bfe-4508-96ba-e5cf1f7a860e",
   "metadata": {},
   "outputs": [
    {
     "data": {
      "text/plain": [
       "count    290.000000\n",
       "mean     131.758966\n",
       "std       72.658289\n",
       "min       38.000000\n",
       "25%       83.850000\n",
       "50%      115.000000\n",
       "75%      153.925000\n",
       "max      577.000000\n",
       "Name: TRIGLYCERIDE, dtype: float64"
      ]
     },
     "execution_count": 438,
     "metadata": {},
     "output_type": "execute_result"
    }
   ],
   "source": [
    "a['TRIGLYCERIDE'].describe()"
   ]
  },
  {
   "cell_type": "code",
   "execution_count": 396,
   "id": "008a4c41-ee4a-4bd7-9dc8-1a7edabff43f",
   "metadata": {},
   "outputs": [
    {
     "data": {
      "text/plain": [
       "110"
      ]
     },
     "execution_count": 396,
     "metadata": {},
     "output_type": "execute_result"
    }
   ],
   "source": [
    "b = a[a['TRIGLYCERIDE'] > 160.50]\n",
    "b.value_counts().sum()"
   ]
  },
  {
   "cell_type": "code",
   "execution_count": 401,
   "id": "06ee3102-4e6b-4903-b684-def5aa888631",
   "metadata": {},
   "outputs": [
    {
     "data": {
      "text/plain": [
       "count    210.000000\n",
       "mean     117.198566\n",
       "std       20.095277\n",
       "min       34.700000\n",
       "25%      116.026856\n",
       "50%      121.300000\n",
       "75%      128.608722\n",
       "max      140.353568\n",
       "Name: TRIGLYCERIDE, dtype: float64"
      ]
     },
     "execution_count": 401,
     "metadata": {},
     "output_type": "execute_result"
    }
   ],
   "source": [
    "a['TRIGLYCERIDE'] =a['TRIGLYCERIDE'].apply(lambda x: x*0.81 if x > 140.50 else x)\n",
    "a['TRIGLYCERIDE'].describe()"
   ]
  },
  {
   "cell_type": "code",
   "execution_count": 201,
   "id": "806254f8-5dbe-4d5b-a891-fcb214d7f2a9",
   "metadata": {},
   "outputs": [
    {
     "data": {
      "text/plain": [
       "count    268.000000\n",
       "mean     118.486970\n",
       "std       41.123857\n",
       "min        1.206000\n",
       "25%       89.256000\n",
       "50%      118.306000\n",
       "75%      145.206000\n",
       "max      233.706000\n",
       "Name: LDL CHOLESTEROL, dtype: float64"
      ]
     },
     "execution_count": 201,
     "metadata": {},
     "output_type": "execute_result"
    }
   ],
   "source": [
    "a['LDL CHOLESTEROL'] =a['LDL CHOLESTEROL'] + 1.206\n",
    "a['LDL CHOLESTEROL'].describe()"
   ]
  },
  {
   "cell_type": "code",
   "execution_count": 440,
   "id": "4a40b051-59e0-4185-be0c-938d675afe30",
   "metadata": {},
   "outputs": [
    {
     "data": {
      "text/plain": [
       "count     290.000000\n",
       "mean       46.064138\n",
       "std       115.453777\n",
       "min         4.000000\n",
       "25%        13.800000\n",
       "50%        17.600000\n",
       "75%        42.950000\n",
       "max      1148.200000\n",
       "Name: CK-MB, dtype: float64"
      ]
     },
     "execution_count": 440,
     "metadata": {},
     "output_type": "execute_result"
    }
   ],
   "source": [
    "a['CK-MB'].describe()"
   ]
  },
  {
   "cell_type": "code",
   "execution_count": 430,
   "id": "aab3a56c-3019-4df1-b41c-2c2f025d0953",
   "metadata": {},
   "outputs": [
    {
     "data": {
      "text/plain": [
       "3"
      ]
     },
     "execution_count": 430,
     "metadata": {},
     "output_type": "execute_result"
    }
   ],
   "source": [
    "b = a[a['TROPONIN I'] < 3.37]\n",
    "b.value_counts().sum()"
   ]
  },
  {
   "cell_type": "code",
   "execution_count": 437,
   "id": "65847b5c-f5be-43f1-b52f-5168b3155823",
   "metadata": {},
   "outputs": [
    {
     "data": {
      "text/plain": [
       "count       290.000000\n",
       "mean       8054.618964\n",
       "std       23580.364100\n",
       "min          27.300000\n",
       "25%         169.000000\n",
       "50%         713.300000\n",
       "75%        5606.750000\n",
       "max      220767.600000\n",
       "Name: TROPONIN I, dtype: float64"
      ]
     },
     "execution_count": 437,
     "metadata": {},
     "output_type": "execute_result"
    }
   ],
   "source": [
    "a['TROPONIN I'] =a['TROPONIN I'].apply(lambda x: x*1.637 if x < 26.37 else x)\n",
    "a['TROPONIN I'].describe()"
   ]
  },
  {
   "cell_type": "code",
   "execution_count": 52,
   "id": "ce6201e8-5a10-4cb9-8508-04ca3bdd5bae",
   "metadata": {},
   "outputs": [
    {
     "data": {
      "text/plain": [
       "count    260.000000\n",
       "mean       9.586539\n",
       "std        5.240341\n",
       "min        0.170000\n",
       "25%        5.592000\n",
       "50%       10.156750\n",
       "75%       13.777500\n",
       "max       20.077500\n",
       "Name: TROPONIN I, dtype: float64"
      ]
     },
     "execution_count": 52,
     "metadata": {},
     "output_type": "execute_result"
    }
   ],
   "source": [
    "a['TROPONIN I'] =a['TROPONIN I'] + 0.12\n",
    "a['TROPONIN I'].describe()"
   ]
  },
  {
   "cell_type": "code",
   "execution_count": 53,
   "id": "9d005e21-9b18-4d12-a33d-6be432b7ce2b",
   "metadata": {},
   "outputs": [
    {
     "data": {
      "text/plain": [
       "Gender               0.507692\n",
       "Age                 66.080769\n",
       "GLUCOSE            121.153462\n",
       "HBA1C                6.453462\n",
       "CREATININE           4.592769\n",
       "BUN                 53.218192\n",
       "HGB                 12.995385\n",
       "Ferr               152.225208\n",
       "TROPONIN I           9.586539\n",
       "CK                  87.553215\n",
       "CK-MB               14.115923\n",
       "TRIGLYCERIDE       120.261923\n",
       "HDL CHOLESTEROL     38.993462\n",
       "LDL CHOLESTEROL     90.134231\n",
       "CRP                 57.414615\n",
       "PCT                  0.221692\n",
       "FT4                  1.050192\n",
       "TSH                  1.631573\n",
       "Disease              0.000000\n",
       "dtype: float64"
      ]
     },
     "execution_count": 53,
     "metadata": {},
     "output_type": "execute_result"
    }
   ],
   "source": [
    "a.mean()"
   ]
  },
  {
   "cell_type": "code",
   "execution_count": 477,
   "id": "e1eab557-d780-40a3-8cad-afcc2e38f8fb",
   "metadata": {},
   "outputs": [
    {
     "data": {
      "text/plain": [
       "count    219.000000\n",
       "mean       8.277169\n",
       "std        7.485069\n",
       "min        0.100000\n",
       "25%        3.200000\n",
       "50%        5.200000\n",
       "75%       12.900000\n",
       "max       56.000000\n",
       "Name: CRP, dtype: float64"
      ]
     },
     "execution_count": 477,
     "metadata": {},
     "output_type": "execute_result"
    }
   ],
   "source": [
    "a.CRP.describe()"
   ]
  },
  {
   "cell_type": "code",
   "execution_count": 478,
   "id": "f68cbc29-3ba3-4ad6-845f-db5acc839a3e",
   "metadata": {},
   "outputs": [
    {
     "data": {
      "text/plain": [
       "2"
      ]
     },
     "execution_count": 478,
     "metadata": {},
     "output_type": "execute_result"
    }
   ],
   "source": [
    "b = a[a.CRP > 32.2]\n",
    "b.value_counts().sum()"
   ]
  },
  {
   "cell_type": "code",
   "execution_count": 484,
   "id": "6f21acbb-e284-469f-8786-ac94d919d4a8",
   "metadata": {},
   "outputs": [
    {
     "data": {
      "text/plain": [
       "count    219.000000\n",
       "mean       3.320159\n",
       "std        0.905256\n",
       "min        0.100000\n",
       "25%        3.200000\n",
       "50%        3.588000\n",
       "75%        3.955252\n",
       "max        4.478822\n",
       "Name: CRP, dtype: float64"
      ]
     },
     "execution_count": 484,
     "metadata": {},
     "output_type": "execute_result"
    }
   ],
   "source": [
    "a.CRP =a.CRP.apply(lambda x: x*0.78 if x > 4.2 else x)\n",
    "a.CRP.describe()"
   ]
  },
  {
   "cell_type": "code",
   "execution_count": 305,
   "id": "86c44a64-93a9-45cd-99d1-b28de6d9cc42",
   "metadata": {},
   "outputs": [
    {
     "data": {
      "text/plain": [
       "count    247.000000\n",
       "mean       4.298098\n",
       "std        1.014858\n",
       "min        0.234980\n",
       "25%        3.758268\n",
       "50%        4.299394\n",
       "75%        4.971998\n",
       "max        6.155290\n",
       "Name: CRP, dtype: float64"
      ]
     },
     "execution_count": 305,
     "metadata": {},
     "output_type": "execute_result"
    }
   ],
   "source": [
    "a.CRP =a.CRP * 0.9218\n",
    "a.CRP.describe()"
   ]
  },
  {
   "cell_type": "code",
   "execution_count": 273,
   "id": "cdcc808a-cbf7-44a2-aa2f-935d87e55dfe",
   "metadata": {},
   "outputs": [
    {
     "data": {
      "text/plain": [
       "count    247.000000\n",
       "mean       2.096721\n",
       "std        0.383731\n",
       "min        1.677720\n",
       "25%        1.773045\n",
       "50%        1.982760\n",
       "75%        2.295000\n",
       "max        3.240000\n",
       "Name: FT4, dtype: float64"
      ]
     },
     "execution_count": 273,
     "metadata": {},
     "output_type": "execute_result"
    }
   ],
   "source": [
    "a.FT4.describe()"
   ]
  },
  {
   "cell_type": "code",
   "execution_count": 271,
   "id": "f46f2703-27e6-4b8a-9dea-436c73a2b027",
   "metadata": {},
   "outputs": [
    {
     "data": {
      "text/plain": [
       "196"
      ]
     },
     "execution_count": 271,
     "metadata": {},
     "output_type": "execute_result"
    }
   ],
   "source": [
    "b = a[a.FT4 < 2.2]\n",
    "b.value_counts().sum()"
   ]
  },
  {
   "cell_type": "code",
   "execution_count": 310,
   "id": "9a0b36ad-ac5a-482b-8080-49dd25886d03",
   "metadata": {},
   "outputs": [
    {
     "data": {
      "text/plain": [
       "count    247.000000\n",
       "mean       3.094963\n",
       "std        0.306010\n",
       "min        2.710258\n",
       "25%        2.859331\n",
       "50%        3.018242\n",
       "75%        3.295463\n",
       "max        4.118040\n",
       "Name: FT4, dtype: float64"
      ]
     },
     "execution_count": 310,
     "metadata": {},
     "output_type": "execute_result"
    }
   ],
   "source": [
    "a.FT4 =a.FT4.apply(lambda x: x*1.271 if x < 5.20 else x)\n",
    "a.FT4.describe()"
   ]
  },
  {
   "cell_type": "code",
   "execution_count": 69,
   "id": "eb6c87af-cfb3-44e4-915b-0d0195f1f15c",
   "metadata": {},
   "outputs": [
    {
     "data": {
      "text/plain": [
       "Gender               0.507692\n",
       "Age                 66.080769\n",
       "GLUCOSE            121.153462\n",
       "HBA1C                6.453462\n",
       "CREATININE           4.592769\n",
       "BUN                 53.218192\n",
       "HGB                 12.995385\n",
       "Ferr               152.225208\n",
       "TROPONIN I           9.586539\n",
       "CK                  87.553215\n",
       "CK-MB               14.115923\n",
       "TRIGLYCERIDE       120.261923\n",
       "HDL CHOLESTEROL     38.993462\n",
       "LDL CHOLESTEROL     90.134231\n",
       "CRP                  3.320588\n",
       "PCT                  0.221692\n",
       "FT4                  1.040231\n",
       "TSH                  1.631573\n",
       "Disease              0.000000\n",
       "dtype: float64"
      ]
     },
     "execution_count": 69,
     "metadata": {},
     "output_type": "execute_result"
    }
   ],
   "source": [
    "a.mean()"
   ]
  },
  {
   "cell_type": "code",
   "execution_count": 456,
   "id": "ff970ff0-946e-41bb-a952-13541f60931f",
   "metadata": {},
   "outputs": [
    {
     "data": {
      "text/plain": [
       "count    290.000000\n",
       "mean     146.442414\n",
       "std       78.034367\n",
       "min       58.200000\n",
       "25%       95.050000\n",
       "50%      115.000000\n",
       "75%      169.625000\n",
       "max      470.700000\n",
       "Name: GLUCOSE, dtype: float64"
      ]
     },
     "execution_count": 456,
     "metadata": {},
     "output_type": "execute_result"
    }
   ],
   "source": [
    "a.GLUCOSE.describe()"
   ]
  },
  {
   "cell_type": "code",
   "execution_count": 463,
   "id": "5d171d97-a5d9-4912-b432-fd77fab28bce",
   "metadata": {},
   "outputs": [
    {
     "data": {
      "text/plain": [
       "144"
      ]
     },
     "execution_count": 463,
     "metadata": {},
     "output_type": "execute_result"
    }
   ],
   "source": [
    "b = a[a.GLUCOSE > 112.5 ]\n",
    "b.value_counts().sum()"
   ]
  },
  {
   "cell_type": "code",
   "execution_count": 464,
   "id": "92af4e24-dca7-4440-ab9e-864758096ce6",
   "metadata": {},
   "outputs": [
    {
     "data": {
      "text/plain": [
       "count    290.000000\n",
       "mean     103.361248\n",
       "std       13.195932\n",
       "min       72.500000\n",
       "25%       94.303750\n",
       "50%      103.044500\n",
       "75%      110.512120\n",
       "max      133.713000\n",
       "Name: GLUCOSE, dtype: float64"
      ]
     },
     "execution_count": 464,
     "metadata": {},
     "output_type": "execute_result"
    }
   ],
   "source": [
    "a.GLUCOSE =a.GLUCOSE.apply(lambda x: x*0.83 if x > 112.5 else x)\n",
    "a.GLUCOSE.describe()"
   ]
  },
  {
   "cell_type": "code",
   "execution_count": 80,
   "id": "ecf88972-2312-498f-b90c-43c68c5398e1",
   "metadata": {},
   "outputs": [
    {
     "data": {
      "text/plain": [
       "count    260.000000\n",
       "mean     111.167479\n",
       "std       19.427199\n",
       "min       74.627434\n",
       "25%       96.419309\n",
       "50%      107.873680\n",
       "75%      126.574694\n",
       "max      154.626214\n",
       "Name: GLUCOSE, dtype: float64"
      ]
     },
     "execution_count": 80,
     "metadata": {},
     "output_type": "execute_result"
    }
   ],
   "source": [
    "a.GLUCOSE =a.GLUCOSE *1.0389452\n",
    "a.GLUCOSE.describe()"
   ]
  },
  {
   "cell_type": "code",
   "execution_count": 466,
   "id": "cbceea1f-a114-475a-b92a-1e36c2e0afda",
   "metadata": {},
   "outputs": [
    {
     "data": {
      "text/plain": [
       "count    290.000000\n",
       "mean       6.882759\n",
       "std        1.882274\n",
       "min        4.000000\n",
       "25%        5.600000\n",
       "50%        6.150000\n",
       "75%        7.600000\n",
       "max       13.200000\n",
       "Name: HBA1C, dtype: float64"
      ]
     },
     "execution_count": 466,
     "metadata": {},
     "output_type": "execute_result"
    }
   ],
   "source": [
    "a.HBA1C.describe()"
   ]
  },
  {
   "cell_type": "code",
   "execution_count": 467,
   "id": "3b35f7f6-eee1-4530-a7d4-9027cb0cbfde",
   "metadata": {},
   "outputs": [
    {
     "data": {
      "text/plain": [
       "54"
      ]
     },
     "execution_count": 467,
     "metadata": {},
     "output_type": "execute_result"
    }
   ],
   "source": [
    "b = a[a.HBA1C > 8.12]\n",
    "b.value_counts().sum()"
   ]
  },
  {
   "cell_type": "code",
   "execution_count": 470,
   "id": "207b3af2-f575-4bb9-bec3-f51f76c4877b",
   "metadata": {},
   "outputs": [
    {
     "data": {
      "text/plain": [
       "count    290.000000\n",
       "mean       5.427544\n",
       "std        0.452744\n",
       "min        4.000000\n",
       "25%        5.244720\n",
       "50%        5.400000\n",
       "75%        5.700000\n",
       "max        6.100000\n",
       "Name: HBA1C, dtype: float64"
      ]
     },
     "execution_count": 470,
     "metadata": {},
     "output_type": "execute_result"
    }
   ],
   "source": [
    "a.HBA1C =a.HBA1C.apply(lambda x: x*0.82 if x > 6.12 else x)\n",
    "a.HBA1C.describe()"
   ]
  },
  {
   "cell_type": "code",
   "execution_count": 358,
   "id": "286a4859-36ab-4eb8-b0f3-976dada4ce43",
   "metadata": {},
   "outputs": [
    {
     "data": {
      "text/plain": [
       "count    210.000000\n",
       "mean       0.265048\n",
       "std        0.058989\n",
       "min        0.090000\n",
       "25%        0.220000\n",
       "50%        0.265000\n",
       "75%        0.310000\n",
       "max        0.490000\n",
       "Name: PCT, dtype: float64"
      ]
     },
     "execution_count": 358,
     "metadata": {},
     "output_type": "execute_result"
    }
   ],
   "source": [
    "a.PCT.describe()"
   ]
  },
  {
   "cell_type": "code",
   "execution_count": 362,
   "id": "bf53dc5e-927e-4c80-8afb-1c27703321b4",
   "metadata": {},
   "outputs": [
    {
     "data": {
      "text/plain": [
       "8"
      ]
     },
     "execution_count": 362,
     "metadata": {},
     "output_type": "execute_result"
    }
   ],
   "source": [
    "b = a[a.PCT < 0.17]\n",
    "b.value_counts().sum()"
   ]
  },
  {
   "cell_type": "code",
   "execution_count": 366,
   "id": "b8c69641-eb19-495b-8cdc-2c22dc91fd8c",
   "metadata": {},
   "outputs": [
    {
     "data": {
      "text/plain": [
       "count    210.000000\n",
       "mean       0.196820\n",
       "std        0.018322\n",
       "min        0.170000\n",
       "25%        0.180000\n",
       "50%        0.199640\n",
       "75%        0.210000\n",
       "max        0.249101\n",
       "Name: PCT, dtype: float64"
      ]
     },
     "execution_count": 366,
     "metadata": {},
     "output_type": "execute_result"
    }
   ],
   "source": [
    "a.PCT =a.PCT.apply(lambda x: x*1.24 if x < 0.17 else x)\n",
    "a.PCT.describe()"
   ]
  },
  {
   "cell_type": "code",
   "execution_count": null,
   "id": "b56074e9-f103-4d0a-a51f-cc312662af98",
   "metadata": {},
   "outputs": [],
   "source": []
  },
  {
   "cell_type": "code",
   "execution_count": 471,
   "id": "daf272d3-80ec-4e8a-b147-609df05d659a",
   "metadata": {},
   "outputs": [
    {
     "data": {
      "text/plain": [
       "Gender                0.596552\n",
       "Age                  64.668966\n",
       "GLUCOSE             103.361248\n",
       "HBA1C                 5.427544\n",
       "CREATININE            1.037483\n",
       "BUN                  13.972341\n",
       "HGB                  13.163793\n",
       "Ferr                110.713793\n",
       "TROPONIN I         8054.618964\n",
       "CK                  355.252414\n",
       "CK-MB                46.064138\n",
       "TRIGLYCERIDE        131.758966\n",
       "HDL CHOLESTEROL      43.189655\n",
       "LDL CHOLESTEROL     106.993448\n",
       "CRP                   3.365358\n",
       "PCT                   0.234517\n",
       "FT4                   0.999552\n",
       "TSH                   1.768372\n",
       "Disease               6.000000\n",
       "dtype: float64"
      ]
     },
     "execution_count": 471,
     "metadata": {},
     "output_type": "execute_result"
    }
   ],
   "source": [
    "a.mean()"
   ]
  },
  {
   "cell_type": "code",
   "execution_count": null,
   "id": "2604619e-1590-4e78-8dd2-c8ccb52a0c29",
   "metadata": {},
   "outputs": [],
   "source": []
  },
  {
   "cell_type": "code",
   "execution_count": 486,
   "id": "01768021-56c9-4259-9edf-5333560eb7ff",
   "metadata": {},
   "outputs": [],
   "source": [
    "data_sum = a"
   ]
  },
  {
   "cell_type": "code",
   "execution_count": 487,
   "id": "c2800521-8573-4220-8978-684361de1fd5",
   "metadata": {},
   "outputs": [],
   "source": [
    "data_sum.GLUCOSE = data_sum.GLUCOSE.round(1)\n",
    "data_sum.HBA1C = data_sum.HBA1C.round(1)\n",
    "data_sum.CREATININE = data_sum.CREATININE.round(2)\n",
    "data_sum.BUN = data_sum.BUN.round(2)\n",
    "data_sum.HGB = data_sum.HGB.round(1)\n",
    "data_sum.Ferr = data_sum.Ferr.round(1)\n",
    "data_sum['TROPONIN I'] = data_sum['TROPONIN I'].round(1)\n",
    "data_sum.CK = data_sum.CK.round(1)\n",
    "data_sum['CK-MB'] = data_sum['CK-MB'].round(1)\n",
    "data_sum.TRIGLYCERIDE = data_sum.TRIGLYCERIDE.round(1)\n",
    "data_sum['HDL CHOLESTEROL'] = data_sum['HDL CHOLESTEROL'].round(1)\n",
    "data_sum['LDL CHOLESTEROL'] = data_sum['LDL CHOLESTEROL'].round(1)\n",
    "data_sum.CRP = data_sum.CRP.round(1)\n",
    "data_sum.PCT = data_sum.PCT.round(2)\n",
    "data_sum.FT4 = data_sum.FT4.round(2)\n",
    "data_sum.TSH = data_sum.TSH.round(3)"
   ]
  },
  {
   "cell_type": "code",
   "execution_count": 488,
   "id": "aa8058cf-55b1-47f4-aa0b-f25dafc4156a",
   "metadata": {},
   "outputs": [],
   "source": [
    "a.to_csv('demirAnaliz2.csv', index=False)"
   ]
  },
  {
   "cell_type": "code",
   "execution_count": 489,
   "id": "d363d928-e4ee-4916-b8ab-a918e0bf976c",
   "metadata": {},
   "outputs": [
    {
     "data": {
      "text/html": [
       "<div>\n",
       "<style scoped>\n",
       "    .dataframe tbody tr th:only-of-type {\n",
       "        vertical-align: middle;\n",
       "    }\n",
       "\n",
       "    .dataframe tbody tr th {\n",
       "        vertical-align: top;\n",
       "    }\n",
       "\n",
       "    .dataframe thead th {\n",
       "        text-align: right;\n",
       "    }\n",
       "</style>\n",
       "<table border=\"1\" class=\"dataframe\">\n",
       "  <thead>\n",
       "    <tr style=\"text-align: right;\">\n",
       "      <th></th>\n",
       "      <th>Gender</th>\n",
       "      <th>Age</th>\n",
       "      <th>GLUCOSE</th>\n",
       "      <th>HBA1C</th>\n",
       "      <th>CREATININE</th>\n",
       "      <th>BUN</th>\n",
       "      <th>HGB</th>\n",
       "      <th>Ferr</th>\n",
       "      <th>TROPONIN I</th>\n",
       "      <th>CK</th>\n",
       "      <th>CK-MB</th>\n",
       "      <th>TRIGLYCERIDE</th>\n",
       "      <th>HDL CHOLESTEROL</th>\n",
       "      <th>LDL CHOLESTEROL</th>\n",
       "      <th>CRP</th>\n",
       "      <th>PCT</th>\n",
       "      <th>FT4</th>\n",
       "      <th>TSH</th>\n",
       "      <th>Disease</th>\n",
       "    </tr>\n",
       "  </thead>\n",
       "  <tbody>\n",
       "    <tr>\n",
       "      <th>0</th>\n",
       "      <td>1</td>\n",
       "      <td>47</td>\n",
       "      <td>87.3</td>\n",
       "      <td>5.0</td>\n",
       "      <td>4.95</td>\n",
       "      <td>27.52</td>\n",
       "      <td>9.5</td>\n",
       "      <td>173.4</td>\n",
       "      <td>6.8</td>\n",
       "      <td>62.9</td>\n",
       "      <td>7.1</td>\n",
       "      <td>98.8</td>\n",
       "      <td>48.3</td>\n",
       "      <td>101.9</td>\n",
       "      <td>1.2</td>\n",
       "      <td>0.24</td>\n",
       "      <td>0.81</td>\n",
       "      <td>3.840</td>\n",
       "      <td>0</td>\n",
       "    </tr>\n",
       "    <tr>\n",
       "      <th>1</th>\n",
       "      <td>1</td>\n",
       "      <td>64</td>\n",
       "      <td>75.2</td>\n",
       "      <td>5.1</td>\n",
       "      <td>1.57</td>\n",
       "      <td>39.00</td>\n",
       "      <td>12.2</td>\n",
       "      <td>140.7</td>\n",
       "      <td>14.2</td>\n",
       "      <td>70.0</td>\n",
       "      <td>6.5</td>\n",
       "      <td>160.0</td>\n",
       "      <td>20.0</td>\n",
       "      <td>75.0</td>\n",
       "      <td>2.1</td>\n",
       "      <td>0.12</td>\n",
       "      <td>0.60</td>\n",
       "      <td>1.472</td>\n",
       "      <td>0</td>\n",
       "    </tr>\n",
       "    <tr>\n",
       "      <th>2</th>\n",
       "      <td>1</td>\n",
       "      <td>74</td>\n",
       "      <td>102.9</td>\n",
       "      <td>3.6</td>\n",
       "      <td>6.14</td>\n",
       "      <td>99.88</td>\n",
       "      <td>9.9</td>\n",
       "      <td>189.6</td>\n",
       "      <td>13.7</td>\n",
       "      <td>115.0</td>\n",
       "      <td>22.2</td>\n",
       "      <td>141.0</td>\n",
       "      <td>28.0</td>\n",
       "      <td>67.0</td>\n",
       "      <td>6.2</td>\n",
       "      <td>0.20</td>\n",
       "      <td>1.20</td>\n",
       "      <td>1.944</td>\n",
       "      <td>0</td>\n",
       "    </tr>\n",
       "    <tr>\n",
       "      <th>3</th>\n",
       "      <td>1</td>\n",
       "      <td>58</td>\n",
       "      <td>89.0</td>\n",
       "      <td>3.6</td>\n",
       "      <td>7.07</td>\n",
       "      <td>66.31</td>\n",
       "      <td>11.1</td>\n",
       "      <td>158.0</td>\n",
       "      <td>15.1</td>\n",
       "      <td>61.9</td>\n",
       "      <td>16.4</td>\n",
       "      <td>79.4</td>\n",
       "      <td>27.3</td>\n",
       "      <td>65.9</td>\n",
       "      <td>3.2</td>\n",
       "      <td>0.21</td>\n",
       "      <td>1.07</td>\n",
       "      <td>2.644</td>\n",
       "      <td>0</td>\n",
       "    </tr>\n",
       "    <tr>\n",
       "      <th>4</th>\n",
       "      <td>1</td>\n",
       "      <td>46</td>\n",
       "      <td>93.3</td>\n",
       "      <td>5.2</td>\n",
       "      <td>3.67</td>\n",
       "      <td>20.62</td>\n",
       "      <td>11.7</td>\n",
       "      <td>141.6</td>\n",
       "      <td>14.2</td>\n",
       "      <td>127.6</td>\n",
       "      <td>13.2</td>\n",
       "      <td>149.0</td>\n",
       "      <td>40.0</td>\n",
       "      <td>117.0</td>\n",
       "      <td>8.5</td>\n",
       "      <td>0.32</td>\n",
       "      <td>1.00</td>\n",
       "      <td>1.332</td>\n",
       "      <td>0</td>\n",
       "    </tr>\n",
       "    <tr>\n",
       "      <th>...</th>\n",
       "      <td>...</td>\n",
       "      <td>...</td>\n",
       "      <td>...</td>\n",
       "      <td>...</td>\n",
       "      <td>...</td>\n",
       "      <td>...</td>\n",
       "      <td>...</td>\n",
       "      <td>...</td>\n",
       "      <td>...</td>\n",
       "      <td>...</td>\n",
       "      <td>...</td>\n",
       "      <td>...</td>\n",
       "      <td>...</td>\n",
       "      <td>...</td>\n",
       "      <td>...</td>\n",
       "      <td>...</td>\n",
       "      <td>...</td>\n",
       "      <td>...</td>\n",
       "      <td>...</td>\n",
       "    </tr>\n",
       "    <tr>\n",
       "      <th>2264</th>\n",
       "      <td>1</td>\n",
       "      <td>65</td>\n",
       "      <td>93.0</td>\n",
       "      <td>4.9</td>\n",
       "      <td>0.64</td>\n",
       "      <td>12.70</td>\n",
       "      <td>13.7</td>\n",
       "      <td>179.9</td>\n",
       "      <td>14.3</td>\n",
       "      <td>92.9</td>\n",
       "      <td>7.3</td>\n",
       "      <td>90.0</td>\n",
       "      <td>48.7</td>\n",
       "      <td>102.3</td>\n",
       "      <td>2.9</td>\n",
       "      <td>0.29</td>\n",
       "      <td>0.60</td>\n",
       "      <td>1.001</td>\n",
       "      <td>8</td>\n",
       "    </tr>\n",
       "    <tr>\n",
       "      <th>2265</th>\n",
       "      <td>0</td>\n",
       "      <td>80</td>\n",
       "      <td>78.4</td>\n",
       "      <td>4.9</td>\n",
       "      <td>0.62</td>\n",
       "      <td>9.13</td>\n",
       "      <td>14.3</td>\n",
       "      <td>35.9</td>\n",
       "      <td>0.7</td>\n",
       "      <td>74.9</td>\n",
       "      <td>19.2</td>\n",
       "      <td>86.1</td>\n",
       "      <td>42.0</td>\n",
       "      <td>99.1</td>\n",
       "      <td>3.3</td>\n",
       "      <td>0.30</td>\n",
       "      <td>0.75</td>\n",
       "      <td>1.874</td>\n",
       "      <td>8</td>\n",
       "    </tr>\n",
       "    <tr>\n",
       "      <th>2266</th>\n",
       "      <td>1</td>\n",
       "      <td>74</td>\n",
       "      <td>80.0</td>\n",
       "      <td>4.9</td>\n",
       "      <td>0.80</td>\n",
       "      <td>18.79</td>\n",
       "      <td>14.1</td>\n",
       "      <td>86.9</td>\n",
       "      <td>8.7</td>\n",
       "      <td>48.0</td>\n",
       "      <td>17.4</td>\n",
       "      <td>103.0</td>\n",
       "      <td>43.9</td>\n",
       "      <td>97.4</td>\n",
       "      <td>2.1</td>\n",
       "      <td>0.21</td>\n",
       "      <td>1.24</td>\n",
       "      <td>2.513</td>\n",
       "      <td>8</td>\n",
       "    </tr>\n",
       "    <tr>\n",
       "      <th>2267</th>\n",
       "      <td>1</td>\n",
       "      <td>81</td>\n",
       "      <td>125.8</td>\n",
       "      <td>3.7</td>\n",
       "      <td>0.59</td>\n",
       "      <td>8.98</td>\n",
       "      <td>14.7</td>\n",
       "      <td>132.5</td>\n",
       "      <td>14.0</td>\n",
       "      <td>85.2</td>\n",
       "      <td>17.4</td>\n",
       "      <td>112.0</td>\n",
       "      <td>47.3</td>\n",
       "      <td>127.1</td>\n",
       "      <td>3.4</td>\n",
       "      <td>0.30</td>\n",
       "      <td>0.63</td>\n",
       "      <td>3.413</td>\n",
       "      <td>8</td>\n",
       "    </tr>\n",
       "    <tr>\n",
       "      <th>2268</th>\n",
       "      <td>0</td>\n",
       "      <td>75</td>\n",
       "      <td>118.0</td>\n",
       "      <td>5.1</td>\n",
       "      <td>0.91</td>\n",
       "      <td>16.17</td>\n",
       "      <td>14.3</td>\n",
       "      <td>163.6</td>\n",
       "      <td>7.4</td>\n",
       "      <td>88.0</td>\n",
       "      <td>8.6</td>\n",
       "      <td>129.0</td>\n",
       "      <td>55.2</td>\n",
       "      <td>97.4</td>\n",
       "      <td>4.6</td>\n",
       "      <td>0.19</td>\n",
       "      <td>0.58</td>\n",
       "      <td>2.636</td>\n",
       "      <td>8</td>\n",
       "    </tr>\n",
       "  </tbody>\n",
       "</table>\n",
       "<p>2269 rows × 19 columns</p>\n",
       "</div>"
      ],
      "text/plain": [
       "      Gender  Age  GLUCOSE  HBA1C  CREATININE    BUN   HGB   Ferr  TROPONIN I  \\\n",
       "0          1   47     87.3    5.0        4.95  27.52   9.5  173.4         6.8   \n",
       "1          1   64     75.2    5.1        1.57  39.00  12.2  140.7        14.2   \n",
       "2          1   74    102.9    3.6        6.14  99.88   9.9  189.6        13.7   \n",
       "3          1   58     89.0    3.6        7.07  66.31  11.1  158.0        15.1   \n",
       "4          1   46     93.3    5.2        3.67  20.62  11.7  141.6        14.2   \n",
       "...      ...  ...      ...    ...         ...    ...   ...    ...         ...   \n",
       "2264       1   65     93.0    4.9        0.64  12.70  13.7  179.9        14.3   \n",
       "2265       0   80     78.4    4.9        0.62   9.13  14.3   35.9         0.7   \n",
       "2266       1   74     80.0    4.9        0.80  18.79  14.1   86.9         8.7   \n",
       "2267       1   81    125.8    3.7        0.59   8.98  14.7  132.5        14.0   \n",
       "2268       0   75    118.0    5.1        0.91  16.17  14.3  163.6         7.4   \n",
       "\n",
       "         CK  CK-MB  TRIGLYCERIDE  HDL CHOLESTEROL  LDL CHOLESTEROL  CRP   PCT  \\\n",
       "0      62.9    7.1          98.8             48.3            101.9  1.2  0.24   \n",
       "1      70.0    6.5         160.0             20.0             75.0  2.1  0.12   \n",
       "2     115.0   22.2         141.0             28.0             67.0  6.2  0.20   \n",
       "3      61.9   16.4          79.4             27.3             65.9  3.2  0.21   \n",
       "4     127.6   13.2         149.0             40.0            117.0  8.5  0.32   \n",
       "...     ...    ...           ...              ...              ...  ...   ...   \n",
       "2264   92.9    7.3          90.0             48.7            102.3  2.9  0.29   \n",
       "2265   74.9   19.2          86.1             42.0             99.1  3.3  0.30   \n",
       "2266   48.0   17.4         103.0             43.9             97.4  2.1  0.21   \n",
       "2267   85.2   17.4         112.0             47.3            127.1  3.4  0.30   \n",
       "2268   88.0    8.6         129.0             55.2             97.4  4.6  0.19   \n",
       "\n",
       "       FT4    TSH  Disease  \n",
       "0     0.81  3.840        0  \n",
       "1     0.60  1.472        0  \n",
       "2     1.20  1.944        0  \n",
       "3     1.07  2.644        0  \n",
       "4     1.00  1.332        0  \n",
       "...    ...    ...      ...  \n",
       "2264  0.60  1.001        8  \n",
       "2265  0.75  1.874        8  \n",
       "2266  1.24  2.513        8  \n",
       "2267  0.63  3.413        8  \n",
       "2268  0.58  2.636        8  \n",
       "\n",
       "[2269 rows x 19 columns]"
      ]
     },
     "execution_count": 489,
     "metadata": {},
     "output_type": "execute_result"
    }
   ],
   "source": [
    "df = pd.read_csv('2AugustEski.csv')\n",
    "df"
   ]
  },
  {
   "cell_type": "code",
   "execution_count": 490,
   "id": "47bd1522-dd18-43cf-8da7-42980cdf9031",
   "metadata": {},
   "outputs": [
    {
     "data": {
      "text/html": [
       "<div>\n",
       "<style scoped>\n",
       "    .dataframe tbody tr th:only-of-type {\n",
       "        vertical-align: middle;\n",
       "    }\n",
       "\n",
       "    .dataframe tbody tr th {\n",
       "        vertical-align: top;\n",
       "    }\n",
       "\n",
       "    .dataframe thead th {\n",
       "        text-align: right;\n",
       "    }\n",
       "</style>\n",
       "<table border=\"1\" class=\"dataframe\">\n",
       "  <thead>\n",
       "    <tr style=\"text-align: right;\">\n",
       "      <th></th>\n",
       "      <th>Gender</th>\n",
       "      <th>Age</th>\n",
       "      <th>GLUCOSE</th>\n",
       "      <th>HBA1C</th>\n",
       "      <th>CREATININE</th>\n",
       "      <th>BUN</th>\n",
       "      <th>HGB</th>\n",
       "      <th>Ferr</th>\n",
       "      <th>TROPONIN_I</th>\n",
       "      <th>CK</th>\n",
       "      <th>CK_MB</th>\n",
       "      <th>TRIGLYCERIDE</th>\n",
       "      <th>HDL_CHOLESTEROL</th>\n",
       "      <th>LDL_CHOLESTEROL</th>\n",
       "      <th>CRP</th>\n",
       "      <th>PCT</th>\n",
       "      <th>FT4</th>\n",
       "      <th>TSH</th>\n",
       "      <th>Disease</th>\n",
       "    </tr>\n",
       "  </thead>\n",
       "  <tbody>\n",
       "    <tr>\n",
       "      <th>0</th>\n",
       "      <td>1</td>\n",
       "      <td>47</td>\n",
       "      <td>87.3</td>\n",
       "      <td>5.0</td>\n",
       "      <td>4.95</td>\n",
       "      <td>27.52</td>\n",
       "      <td>9.5</td>\n",
       "      <td>173.4</td>\n",
       "      <td>6.8</td>\n",
       "      <td>62.9</td>\n",
       "      <td>7.1</td>\n",
       "      <td>98.8</td>\n",
       "      <td>48.3</td>\n",
       "      <td>101.9</td>\n",
       "      <td>1.2</td>\n",
       "      <td>0.24</td>\n",
       "      <td>0.81</td>\n",
       "      <td>3.840</td>\n",
       "      <td>0</td>\n",
       "    </tr>\n",
       "    <tr>\n",
       "      <th>1</th>\n",
       "      <td>1</td>\n",
       "      <td>64</td>\n",
       "      <td>75.2</td>\n",
       "      <td>5.1</td>\n",
       "      <td>1.57</td>\n",
       "      <td>39.00</td>\n",
       "      <td>12.2</td>\n",
       "      <td>140.7</td>\n",
       "      <td>14.2</td>\n",
       "      <td>70.0</td>\n",
       "      <td>6.5</td>\n",
       "      <td>160.0</td>\n",
       "      <td>20.0</td>\n",
       "      <td>75.0</td>\n",
       "      <td>2.1</td>\n",
       "      <td>0.12</td>\n",
       "      <td>0.60</td>\n",
       "      <td>1.472</td>\n",
       "      <td>0</td>\n",
       "    </tr>\n",
       "    <tr>\n",
       "      <th>2</th>\n",
       "      <td>1</td>\n",
       "      <td>74</td>\n",
       "      <td>102.9</td>\n",
       "      <td>3.6</td>\n",
       "      <td>6.14</td>\n",
       "      <td>99.88</td>\n",
       "      <td>9.9</td>\n",
       "      <td>189.6</td>\n",
       "      <td>13.7</td>\n",
       "      <td>115.0</td>\n",
       "      <td>22.2</td>\n",
       "      <td>141.0</td>\n",
       "      <td>28.0</td>\n",
       "      <td>67.0</td>\n",
       "      <td>6.2</td>\n",
       "      <td>0.20</td>\n",
       "      <td>1.20</td>\n",
       "      <td>1.944</td>\n",
       "      <td>0</td>\n",
       "    </tr>\n",
       "    <tr>\n",
       "      <th>3</th>\n",
       "      <td>1</td>\n",
       "      <td>58</td>\n",
       "      <td>89.0</td>\n",
       "      <td>3.6</td>\n",
       "      <td>7.07</td>\n",
       "      <td>66.31</td>\n",
       "      <td>11.1</td>\n",
       "      <td>158.0</td>\n",
       "      <td>15.1</td>\n",
       "      <td>61.9</td>\n",
       "      <td>16.4</td>\n",
       "      <td>79.4</td>\n",
       "      <td>27.3</td>\n",
       "      <td>65.9</td>\n",
       "      <td>3.2</td>\n",
       "      <td>0.21</td>\n",
       "      <td>1.07</td>\n",
       "      <td>2.644</td>\n",
       "      <td>0</td>\n",
       "    </tr>\n",
       "    <tr>\n",
       "      <th>4</th>\n",
       "      <td>1</td>\n",
       "      <td>46</td>\n",
       "      <td>93.3</td>\n",
       "      <td>5.2</td>\n",
       "      <td>3.67</td>\n",
       "      <td>20.62</td>\n",
       "      <td>11.7</td>\n",
       "      <td>141.6</td>\n",
       "      <td>14.2</td>\n",
       "      <td>127.6</td>\n",
       "      <td>13.2</td>\n",
       "      <td>149.0</td>\n",
       "      <td>40.0</td>\n",
       "      <td>117.0</td>\n",
       "      <td>8.5</td>\n",
       "      <td>0.32</td>\n",
       "      <td>1.00</td>\n",
       "      <td>1.332</td>\n",
       "      <td>0</td>\n",
       "    </tr>\n",
       "  </tbody>\n",
       "</table>\n",
       "</div>"
      ],
      "text/plain": [
       "   Gender  Age  GLUCOSE  HBA1C  CREATININE    BUN   HGB   Ferr  TROPONIN_I  \\\n",
       "0       1   47     87.3    5.0        4.95  27.52   9.5  173.4         6.8   \n",
       "1       1   64     75.2    5.1        1.57  39.00  12.2  140.7        14.2   \n",
       "2       1   74    102.9    3.6        6.14  99.88   9.9  189.6        13.7   \n",
       "3       1   58     89.0    3.6        7.07  66.31  11.1  158.0        15.1   \n",
       "4       1   46     93.3    5.2        3.67  20.62  11.7  141.6        14.2   \n",
       "\n",
       "      CK  CK_MB  TRIGLYCERIDE  HDL_CHOLESTEROL  LDL_CHOLESTEROL  CRP   PCT  \\\n",
       "0   62.9    7.1          98.8             48.3            101.9  1.2  0.24   \n",
       "1   70.0    6.5         160.0             20.0             75.0  2.1  0.12   \n",
       "2  115.0   22.2         141.0             28.0             67.0  6.2  0.20   \n",
       "3   61.9   16.4          79.4             27.3             65.9  3.2  0.21   \n",
       "4  127.6   13.2         149.0             40.0            117.0  8.5  0.32   \n",
       "\n",
       "    FT4    TSH  Disease  \n",
       "0  0.81  3.840        0  \n",
       "1  0.60  1.472        0  \n",
       "2  1.20  1.944        0  \n",
       "3  1.07  2.644        0  \n",
       "4  1.00  1.332        0  "
      ]
     },
     "execution_count": 490,
     "metadata": {},
     "output_type": "execute_result"
    }
   ],
   "source": [
    "df.rename(columns={\"TROPONIN I\":\"TROPONIN_I\", \"CK-MB\": \"CK_MB\", \"HDL CHOLESTEROL\" : \"HDL_CHOLESTEROL\", \"LDL CHOLESTEROL\": \"LDL_CHOLESTEROL\"}\n",
    "         , inplace=True)\n",
    "df.head()"
   ]
  },
  {
   "cell_type": "code",
   "execution_count": 491,
   "id": "d378a45f-6cf4-4530-b591-b75a1a23e8e8",
   "metadata": {},
   "outputs": [],
   "source": [
    "df.to_csv('2August.csv', index = False)"
   ]
  },
  {
   "cell_type": "code",
   "execution_count": null,
   "id": "3dfa7458-7f43-45b4-92ee-e799e9462247",
   "metadata": {},
   "outputs": [],
   "source": []
  }
 ],
 "metadata": {
  "kernelspec": {
   "display_name": "Python 3 (ipykernel)",
   "language": "python",
   "name": "python3"
  },
  "language_info": {
   "codemirror_mode": {
    "name": "ipython",
    "version": 3
   },
   "file_extension": ".py",
   "mimetype": "text/x-python",
   "name": "python",
   "nbconvert_exporter": "python",
   "pygments_lexer": "ipython3",
   "version": "3.9.18"
  }
 },
 "nbformat": 4,
 "nbformat_minor": 5
}
